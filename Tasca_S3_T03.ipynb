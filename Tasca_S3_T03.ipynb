{
 "cells": [
  {
   "cell_type": "markdown",
   "metadata": {
    "id": "C6JtOBHGsbCg"
   },
   "source": [
    "##Exercici 1"
   ]
  },
  {
   "cell_type": "markdown",
   "metadata": {
    "id": "Y-utHQQEsc7v"
   },
   "source": [
    "Descarrega el data set adjunt Locals cadastral segons ús (.csv), carrega’l en un pandas Dataframe i mostra per pantalla els primers 20 registres."
   ]
  },
  {
   "cell_type": "code",
   "execution_count": 5,
   "metadata": {
    "id": "0sPVC00Xsgjf"
   },
   "outputs": [],
   "source": [
    "import pandas as pd"
   ]
  },
  {
   "cell_type": "code",
   "execution_count": 10,
   "metadata": {
    "colab": {
     "base_uri": "https://localhost:8080/"
    },
    "id": "i3Fzu7sjxVvw",
    "outputId": "ee868632-9159-4577-fe1c-011f880b29e8"
   },
   "outputs": [
    {
     "name": "stdout",
     "output_type": "stream",
     "text": [
      "     Any  Codi_districte Nom_districte  Codi_barri Nom_barri  Seccio_censal  \\\n",
      "0   2022             1.0  Ciutat Vella         1.0  el Raval            1.0   \n",
      "1   2022             1.0  Ciutat Vella         1.0  el Raval            1.0   \n",
      "2   2022             1.0  Ciutat Vella         1.0  el Raval            1.0   \n",
      "3   2022             1.0  Ciutat Vella         1.0  el Raval            1.0   \n",
      "4   2022             1.0  Ciutat Vella         1.0  el Raval            1.0   \n",
      "5   2022             1.0  Ciutat Vella         1.0  el Raval            1.0   \n",
      "6   2022             1.0  Ciutat Vella         1.0  el Raval            1.0   \n",
      "7   2022             1.0  Ciutat Vella         1.0  el Raval            1.0   \n",
      "8   2022             1.0  Ciutat Vella         1.0  el Raval            1.0   \n",
      "9   2022             1.0  Ciutat Vella         1.0  el Raval            1.0   \n",
      "10  2022             1.0  Ciutat Vella         1.0  el Raval            1.0   \n",
      "11  2022             1.0  Ciutat Vella         1.0  el Raval            2.0   \n",
      "12  2022             1.0  Ciutat Vella         1.0  el Raval            2.0   \n",
      "13  2022             1.0  Ciutat Vella         1.0  el Raval            2.0   \n",
      "14  2022             1.0  Ciutat Vella         1.0  el Raval            2.0   \n",
      "15  2022             1.0  Ciutat Vella         1.0  el Raval            2.0   \n",
      "16  2022             1.0  Ciutat Vella         1.0  el Raval            2.0   \n",
      "17  2022             1.0  Ciutat Vella         1.0  el Raval            2.0   \n",
      "18  2022             1.0  Ciutat Vella         1.0  el Raval            2.0   \n",
      "19  2022             1.0  Ciutat Vella         1.0  el Raval            2.0   \n",
      "20  2022             1.0  Ciutat Vella         1.0  el Raval            2.0   \n",
      "\n",
      "   Desc_us_desti_principal Concepte       Nombre  \n",
      "0                Habitatge  Valor_€  66331900.15  \n",
      "1              Aparcaments  Valor_€   2085314.09  \n",
      "2                   Comerç  Valor_€  11754825.21  \n",
      "3                 Magatzem  Valor_€   8153377.19  \n",
      "4                  Oficina  Valor_€  18875939.45  \n",
      "5     Turisme i hostaleria  Valor_€   4892522.16  \n",
      "6    Ensenyament i cultura  Valor_€  24542663.44  \n",
      "7                  Sanitat  Valor_€   3702630.96  \n",
      "8                 Religiós  Valor_€    976395.84  \n",
      "9              Adm.Pública  Valor_€   9485613.64  \n",
      "10             Espectacles  Valor_€    379007.09  \n",
      "11               Habitatge  Valor_€  52258919.83  \n",
      "12             Aparcaments  Valor_€    980732.84  \n",
      "13                  Comerç  Valor_€   7393670.63  \n",
      "14                Magatzem  Valor_€   4301539.70  \n",
      "15                 Oficina  Valor_€    682258.77  \n",
      "16    Turisme i hostaleria  Valor_€  19219143.44  \n",
      "17   Ensenyament i cultura  Valor_€   7860726.51  \n",
      "18                Esportiu  Valor_€   2089744.07  \n",
      "19             Espectacles  Valor_€   6251614.32  \n",
      "20      Sòl sense edificar  Valor_€   3918899.50  \n"
     ]
    }
   ],
   "source": [
    "#Els passos que he realitzat prèviament ha sigut, crear una nova carpeta al meu Drive, i pujar l'arxiu CSV.\n",
    "#Un cop pujat, m'he dirigit al menú d'aquest notebook a l'esquerra de la pàgina, he clicat a Drive, i he arrossegat l'arxiu a l'apartat (\"\")\n",
    "\n",
    "data_bcn = pd.read_csv(\"/content/drive/MyDrive/Colab Notebooks/dataset Locals OpenDataBCN.csv\")\n",
    "\n",
    "print(data_bcn.head(21)) # he posat 21, perquè a Python conta des del 0."
   ]
  },
  {
   "cell_type": "markdown",
   "metadata": {
    "id": "RLJbpqIl7TvD"
   },
   "source": [
    "##Exercici 2"
   ]
  },
  {
   "cell_type": "markdown",
   "metadata": {
    "id": "0dx4HntQ7XbC"
   },
   "source": [
    "Mostra per pantalla els noms de les diferents variables (columnes)."
   ]
  },
  {
   "cell_type": "code",
   "execution_count": 12,
   "metadata": {
    "colab": {
     "base_uri": "https://localhost:8080/"
    },
    "id": "z1y85T63ym5I",
    "outputId": "5fef868d-f795-4adb-c354-42f4c8dca430"
   },
   "outputs": [
    {
     "name": "stdout",
     "output_type": "stream",
     "text": [
      "<class 'pandas.core.frame.DataFrame'>\n",
      "RangeIndex: 25873 entries, 0 to 25872\n",
      "Data columns (total 9 columns):\n",
      " #   Column                   Non-Null Count  Dtype  \n",
      "---  ------                   --------------  -----  \n",
      " 0   Any                      25873 non-null  object \n",
      " 1   Codi_districte           25405 non-null  float64\n",
      " 2   Nom_districte            25405 non-null  object \n",
      " 3   Codi_barri               25405 non-null  float64\n",
      " 4   Nom_barri                25405 non-null  object \n",
      " 5   Seccio_censal            25405 non-null  float64\n",
      " 6   Desc_us_desti_principal  25405 non-null  object \n",
      " 7   Concepte                 25405 non-null  object \n",
      " 8   Nombre                   25405 non-null  float64\n",
      "dtypes: float64(4), object(5)\n",
      "memory usage: 1.8+ MB\n",
      "None\n"
     ]
    }
   ],
   "source": [
    "print(data_bcn.info())"
   ]
  },
  {
   "cell_type": "markdown",
   "metadata": {
    "id": "tsZdqjJ-7Yzh"
   },
   "source": [
    "##Exercici 3"
   ]
  },
  {
   "cell_type": "markdown",
   "metadata": {
    "id": "fW2vby9m7de6"
   },
   "source": [
    "Obté els valors únics de la variable (columna) 'Desc_us_desti_principal' i mostra'ls per pantalla."
   ]
  },
  {
   "cell_type": "code",
   "execution_count": 13,
   "metadata": {
    "colab": {
     "base_uri": "https://localhost:8080/"
    },
    "id": "psTzqyOH7c2i",
    "outputId": "d2f715d3-57a5-4288-edaf-ffd084b94807"
   },
   "outputs": [
    {
     "name": "stdout",
     "output_type": "stream",
     "text": [
      "['Habitatge' 'Aparcaments' 'Comerç' 'Magatzem' 'Oficina'\n",
      " 'Turisme i hostaleria' 'Ensenyament i cultura' 'Sanitat' 'Religiós'\n",
      " 'Adm.Pública' 'Espectacles' 'Esportiu' 'Sòl sense edificar' 'Altres'\n",
      " 'Indústria' nan]\n"
     ]
    }
   ],
   "source": [
    "valors_unics = data_bcn['Desc_us_desti_principal'].unique()\n",
    "\n",
    "print(valors_unics)\n"
   ]
  },
  {
   "cell_type": "code",
   "execution_count": null,
   "metadata": {
    "id": "Hpcz50gEA4Ls"
   },
   "outputs": [],
   "source": []
  }
 ],
 "metadata": {
  "colab": {
   "provenance": []
  },
  "kernelspec": {
   "display_name": "Python 3 (ipykernel)",
   "language": "python",
   "name": "python3"
  },
  "language_info": {
   "codemirror_mode": {
    "name": "ipython",
    "version": 3
   },
   "file_extension": ".py",
   "mimetype": "text/x-python",
   "name": "python",
   "nbconvert_exporter": "python",
   "pygments_lexer": "ipython3",
   "version": "3.10.9"
  }
 },
 "nbformat": 4,
 "nbformat_minor": 1
}
